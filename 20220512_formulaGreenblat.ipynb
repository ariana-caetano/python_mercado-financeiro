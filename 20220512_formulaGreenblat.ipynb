{
  "cells": [
    {
      "cell_type": "markdown",
      "metadata": {
        "id": "view-in-github",
        "colab_type": "text"
      },
      "source": [
        "<a href=\"https://colab.research.google.com/github/ariana-caetano/python_mercado-financeiro/blob/main/20220512_formulaGreenblat.ipynb\" target=\"_parent\"><img src=\"https://colab.research.google.com/assets/colab-badge.svg\" alt=\"Open In Colab\"/></a>"
      ]
    },
    {
      "cell_type": "markdown",
      "metadata": {
        "id": "Mrg5uJZyznnn"
      },
      "source": [
        "# Fórmula Mágica - Joel Greenblat"
      ]
    },
    {
      "cell_type": "markdown",
      "metadata": {
        "id": "kdP367Dpznns"
      },
      "source": [
        "Joel Greenblatt escreveu um livro (“The Little Book that Beats the Market”), onde explica como os investidores podem aplicar sistematicamente uma fórmula que busca bons negócios quando eles estão disponíveis a preços de pechincha. A essa estratégia deu o nome de Fórmula Mágica.\n",
        "Conheci essa fórmula no Canal do YouTube do Dica de Hoje onde o analista Daniel Nigri fez um vídeo sobre ela. E para quem quiser assistir esse é o link: https://www.youtube.com/watch?v=688h-8JhmXw\n",
        "\n",
        "A fórmula usa dois indicadores:\n",
        "* ROIC\n",
        "* EV/EBIT\n",
        "\n",
        "Baseado nesses indicadores queremos formar um ranking de papéis que possuam o menor EV/EBIT e o maior ROIC.\n",
        "\n",
        "Essa é a forma bem simplificada, o próprio Greenblat faz algumas ressalvas e sugere mais alguns critérios para a escolha dos ativos como: \n",
        "* exclusão de bancos;\n",
        "* empresas de infraestrura (utilities)\n",
        "* empresas com capitalização de mercado inferior a US$ 50 milhões\n",
        "\n",
        "Existem também uma variação da fórmula que permitiria usar o ROE e P/L, mas a lista de ativos obitidos utilizando ROIC e EV/EBIT são diferentes da lista utilizando ROE e P/L.\n",
        "\n",
        "Mas aqui, para efeito de estudos de desenvolvimento em Python vou me ater a apenas essas duas regras: encontrar os 20 ativos que estejam com o maior ROIC e menor EV/EBIT e exibir essa lista.\n",
        "O formato dessa carteira é anual. Ou seja, o investidor compra as ações indicadas hoje e só vai trocar por novas ações no próximo ano."
      ]
    },
    {
      "cell_type": "markdown",
      "metadata": {
        "id": "ddfxFUSNznnt"
      },
      "source": [
        "#### 1. Buscar os dados no site Fundamentus"
      ]
    },
    {
      "cell_type": "code",
      "execution_count": null,
      "metadata": {
        "id": "2jOEYutFznnu"
      },
      "outputs": [],
      "source": [
        "import requests\n",
        "import pandas as pd\n",
        "\n",
        "url = \"https://www.fundamentus.com.br/resultado.php\"\n",
        "headers = {\"User-Agent\": \"Mozilla/5.0 (Windows NT 10.0; Win64; x64) AppleWebKit/537.36 (KHTML, like Gecko) Chrome/100.0.4896.127 Safari/537.36\"}\n",
        "r = requests.get(url, headers=headers)\n",
        "\n",
        "lista = pd.read_html(r.text, decimal=\",\", thousands=\".\")\n",
        "dados = lista[0]"
      ]
    },
    {
      "cell_type": "markdown",
      "metadata": {
        "id": "FsiZxzV_znnx"
      },
      "source": [
        "#### 2. Tratar os dados\n",
        "\n",
        "Nesta etapa vamos fazer um tratamento nos dados:\n",
        " \n",
        "    * remover as colunas que não vamos utilizar e deixar apenas: Papel, EV/EBIT, ROIC;\n",
        "    * remover as linhas que tenham EV/EBIT negativo;\n",
        "    * remover as linhas com ROIC negativo;"
      ]
    },
    {
      "cell_type": "code",
      "execution_count": null,
      "metadata": {
        "id": "lstvkM9cznny"
      },
      "outputs": [],
      "source": [
        "#o site fundamentus também traz os outros indicadores sugeridos pelo Greenblat \n",
        "# ROIC – Quanto maior melhor EV/EBIT – Quanto menor melhor\n",
        "\n",
        "#deletando todas as colunas que não serão utilizadas\n",
        "dados.drop(columns=['Cotação', \n",
        "                    'P/VP', \n",
        "                    'PSR',\n",
        "                    'P/L', \n",
        "                    'Div.Yield',\n",
        "                    'P/Ativo',\n",
        "                    'P/Cap.Giro',\n",
        "                    'P/EBIT',\n",
        "                    'P/Ativ Circ.Liq',\n",
        "                    'EV/EBITDA',\n",
        "                    'Mrg Ebit',\n",
        "                    'Mrg. Líq.',\n",
        "                    'Liq. Corr.',\n",
        "                    'ROE',\n",
        "                    'Patrim. Líq',\n",
        "                    'Dív.Brut/ Patrim.',\n",
        "                    'Cresc. Rec.5a'], inplace=True)\n",
        "\n",
        "#tratamento dos dados para remover as distorções\n",
        "#EV/EBIT negativo \n",
        "indexNames = dados[dados['EV/EBIT'] <= 0].index\n",
        "dados.drop(indexNames , inplace=True)\n",
        "\n",
        "#garantindo que os dados analisados estão em formato numérico\n",
        "#transformando as porcentagens em valores numéricos\n",
        "#não fui em quem criou essa função, mas achei muito boa e resolvi adicionar ao código\n",
        "def columns_which_contains(df, value):\n",
        "    \"\"\"\n",
        "    Serch for DataFrame column's values which contains a specific value\n",
        "    :value: any characters, phrases, symbols\n",
        "    :returns: list of DataFrame column's names\n",
        "    \"\"\"\n",
        "    return [df[column].name for column in df if df[column].astype(str).str.contains(value).any()]\n",
        "\n",
        "percentual_columns = columns_which_contains(dados, '\\%')\n",
        "\n",
        "for column_name in percentual_columns:\n",
        "    dados[column_name] = dados[column_name].str.replace('.', '', regex=True)\n",
        "    dados[column_name] = dados[column_name].str.replace(',', '.', regex=True)\n",
        "    dados[column_name] = dados[column_name].str.replace('[%,]', '', regex=True).astype(float)\n",
        "    dados[column_name] = dados[column_name]/100\n",
        "\n",
        "#remoção do ROIC negativo\n",
        "#antes da tranformação dos dados do ROIC o trecho abaixo dava erro\n",
        "#pois ela não era visto como numérico\n",
        "indexNames = dados[dados['ROIC'] <= 0 ].index\n",
        "dados.drop(indexNames , inplace=True)\n",
        "\n",
        "#vou adicionar também um filtro de liquidez\n",
        "#deixando apenas as ações com liquidez maior que 100000 nos últimos 2 meses\n",
        "#seria bom checar qual o nível de liquidez aceitável para o investidor \n",
        "#conseguir entrar e sair do papelo sem problemas\n",
        "indexNames = dados[dados['Liq.2meses'] < 80000].index\n",
        "dados.drop(indexNames , inplace=True)\n"
      ]
    },
    {
      "cell_type": "markdown",
      "metadata": {
        "id": "KHAj2D6Wznn0"
      },
      "source": [
        "#### 3. Ranking\n",
        "\n",
        "Agora, vamos construir um ranking das ações que se enquadram nos critérios.\n",
        "\n",
        "A empresa com o maior ROIC recebe a nota 0, a segunda recebe nota 1, a terceira nota 2 e assim por diante. A mesma coisa é feita para o EV/EBIT, o menor recebe nota 0, o segundo menor nota 1.....\n",
        "\n",
        "A partir dessa notas criaremos uma nova coluna com as notas SOMADAS dos dois indicadores. Aquelas com MENORES notas representam as “melhores” empresas pela combinação dos dois indicadores."
      ]
    },
    {
      "cell_type": "code",
      "execution_count": null,
      "metadata": {
        "id": "3mEsea5cznn2",
        "outputId": "1d7c56c8-d299-4c2c-cfbe-fb8b20dd66af"
      },
      "outputs": [
        {
          "name": "stdout",
          "output_type": "stream",
          "text": [
            "20 ativos - Fórmula Greenblat\n",
            "\n",
            "     Papel  EV/EBIT    ROIC    Liq.2meses  notaROIC  notaEV/EBIT  somaNotas\n",
            "1    INEP4     0.70  0.9947  6.814810e+05         1            2          3\n",
            "2    INEP3     0.70  0.9947  1.810030e+06         2            3          5\n",
            "6    PSSA3     0.20  0.5429  3.929350e+07         6            1          7\n",
            "19   SYNE3     1.16  0.3758  5.883760e+06        19            7         26\n",
            "24   GOAU3     0.81  0.3587  7.232030e+05        24            4         28\n",
            "23   GOAU4     0.85  0.3587  1.058960e+08        23            5         28\n",
            "15   BRKM3     2.02  0.3971  4.670550e+05        15           13         28\n",
            "14   BRKM5     2.10  0.3971  1.180500e+08        14           15         29\n",
            "12   MRFG3     2.32  0.4181  1.285930e+08        12           20         32\n",
            "5    TASA4     2.88  0.5732  2.367700e+07         5           27         32\n",
            "11   VALE3     2.54  0.4249  2.655810e+09        11           22         33\n",
            "9    CMIN3     2.65  0.5079  3.681940e+07         9           24         33\n",
            "4    TASA3     2.90  0.5732  1.073130e+06         4           29         33\n",
            "10  AURA33     2.74  0.4582  5.484210e+06        10           25         35\n",
            "3    ATOM3     3.47  0.5854  1.072860e+05         3           33         36\n",
            "21   GGBR3     2.13  0.3592  1.421320e+06        21           16         37\n",
            "31   USIM3     1.21  0.3146  8.564320e+06        31            8         39\n",
            "28   FHER3     1.74  0.3231  2.279830e+07        28           11         39\n",
            "30   USIM5     1.30  0.3146  2.429210e+08        30            9         39\n",
            "25   ETER3     2.15  0.3364  1.951070e+07        25           17         42\n"
          ]
        }
      ],
      "source": [
        "#ordenação dos dados de forma descendente do ROIC\n",
        "#quanto maior melhor\n",
        "dados.sort_values('ROIC', ascending=False, inplace=True)\n",
        "\n",
        "#indexando os dados seguindo a ordenação descendente\n",
        "#agora o maior ROIC está no índice 0 e o menor ROIC está no último índice\n",
        "dados.index = range(0,len(dados))\n",
        "\n",
        "dados[\"notaROIC\"] = range(0,len(dados)) \n",
        "\n",
        "#ordenação dos dados de forma ascendente do EV/EBIT\n",
        "#quanto menor melhor\n",
        "dados.sort_values('EV/EBIT', ascending=True, inplace=True)\n",
        "\n",
        "dados[\"notaEV/EBIT\"] = range(0,len(dados)) \n",
        "\n",
        "\n",
        "#fazendo a soma das notas\n",
        "\n",
        "dados[\"somaNotas\"] = 0\n",
        "\n",
        "dfd = dados.copy()\n",
        "\n",
        "for i in dfd.index:\n",
        "    dfd.loc[i, 'somaNotas'] = dfd.loc [i, 'notaEV/EBIT']  + dfd.loc[i, 'notaROIC']\n",
        "\n",
        "dfd.sort_values('somaNotas', ascending=True, inplace=True)\n",
        "\n",
        "print(\"20 ativos - Fórmula Greenblat\\n\")\n",
        "print(dfd.iloc[0:20])"
      ]
    },
    {
      "cell_type": "markdown",
      "metadata": {
        "id": "6IfsSrvMznn4"
      },
      "source": [
        "#### 4. Resultado\n",
        "\n",
        "Esse é o método sistemático e sem influência de nenuma análise um pouco mais refinada. Nem mesmo eu me aprofundei nos indicadores usados na fórmula, se está tudo correto ou não (se alguém quiser contibuir e me corrigir sobre qualquer coisa, fique a vontade).\n",
        "\n",
        "Será que é um bom método usar apenas o ROIC e o EV/EBIT para nos indicar a compra de ações?\n",
        "\n",
        "Mas Greenblat criou essa Fórmula Mágica e será que ela não é rentável? Que tal um backtest de como seria o desempenho dessa carteira nos útimos anos?\n",
        "Esse será o próximo desafio...."
      ]
    }
  ],
  "metadata": {
    "interpreter": {
      "hash": "04ccdc40645868801433b6a3e0e7d1fe6c66bf391386034a5a747c686ce77529"
    },
    "kernelspec": {
      "display_name": "Python 3.10.4 64-bit (system)",
      "language": "python",
      "name": "python3"
    },
    "language_info": {
      "codemirror_mode": {
        "name": "ipython",
        "version": 3
      },
      "file_extension": ".py",
      "mimetype": "text/x-python",
      "name": "python",
      "nbconvert_exporter": "python",
      "pygments_lexer": "ipython3",
      "version": "3.10.4"
    },
    "orig_nbformat": 4,
    "colab": {
      "name": "20220512_formulaGreenblat.ipynb",
      "provenance": [],
      "include_colab_link": true
    }
  },
  "nbformat": 4,
  "nbformat_minor": 0
}